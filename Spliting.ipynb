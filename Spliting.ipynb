{
 "cells": [
  {
   "cell_type": "code",
   "execution_count": 2,
   "metadata": {},
   "outputs": [],
   "source": [
    "import re"
   ]
  },
  {
   "cell_type": "code",
   "execution_count": 3,
   "metadata": {},
   "outputs": [],
   "source": [
    "txt=\"\"\"\n",
    "Lorem Ipsum is simply dummy text of the printing and typesetting!\n",
    "industry Lorem Ipsum has been the industry's standard dummy text.\n",
    "ever since the 1500s, when an unknown printer took a galley of.\\n\n",
    "type and scrambled it to make a type specimen book It has survived,\n",
    "not only five centuries, but also the leap into electronic\n",
    "typesetting, remaining essentially unchanged It was popularised,\n",
    "in the 1960s with the release of Letraset sheets containing Lorem\n",
    "\"\"\""
   ]
  },
  {
   "cell_type": "code",
   "execution_count": 4,
   "metadata": {},
   "outputs": [],
   "source": [
    "pattern=re.compile('\\n')"
   ]
  },
  {
   "cell_type": "code",
   "execution_count": 16,
   "metadata": {},
   "outputs": [
    {
     "data": {
      "text/plain": [
       "['Lorem Ipsum is simply dummy text of the printing and typesetting!',\n",
       " \"industry Lorem Ipsum has been the industry's standard dummy text.\",\n",
       " 'ever since the 1500s, when an unknown printer took a galley of.',\n",
       " 'type and scrambled it to make a type specimen book It has survived,',\n",
       " 'not only five centuries, but also the leap into electronic',\n",
       " 'typesetting, remaining essentially unchanged It was popularised,',\n",
       " 'in the 1960s with the release of Letraset sheets containing Lorem']"
      ]
     },
     "execution_count": 16,
     "metadata": {},
     "output_type": "execute_result"
    }
   ],
   "source": [
    "list(filter(lambda x:x!='',pattern.split(txt)))"
   ]
  },
  {
   "cell_type": "code",
   "execution_count": 17,
   "metadata": {},
   "outputs": [
    {
     "name": "stdout",
     "output_type": "stream",
     "text": [
      "['', 'Lorem Ipsum is simply dummy text of the printing and typesetting!', \"industry Lorem Ipsum has been the industry's standard dummy text.\", 'ever since the 1500s, when an unknown printer took a galley of.', '', 'type and scrambled it to make a type specimen book It has survived,', 'not only five centuries, but also the leap into electronic', 'typesetting, remaining essentially unchanged It was popularised,', 'in the 1960s with the release of Letraset sheets containing Lorem', '']\n"
     ]
    }
   ],
   "source": [
    "print(txt.split('\\n'))"
   ]
  },
  {
   "cell_type": "code",
   "execution_count": 27,
   "metadata": {},
   "outputs": [],
   "source": [
    "re.findall(re.compile('\\W'),txt)"
   ]
  },
  {
   "cell_type": "code",
   "execution_count": 41,
   "metadata": {},
   "outputs": [],
   "source": [
    "pattern=re.compile('\\W')"
   ]
  },
  {
   "cell_type": "code",
   "execution_count": 49,
   "metadata": {},
   "outputs": [
    {
     "data": {
      "text/plain": [
       "['',\n",
       " 'Lorem',\n",
       " 'Ipsum',\n",
       " 'is',\n",
       " 'simply',\n",
       " \"dummy text of the printing and typesetting!\\nindustry Lorem Ipsum has been the industry's standard dummy text.\\never since the 1500s, when an unknown printer took a galley of.\\n\\ntype and scrambled it to make a type specimen book It has survived,\\nnot only five centuries, but also the leap into electronic\\ntypesetting, remaining essentially unchanged It was popularised,\\nin the 1960s with the release of Letraset sheets containing Lorem\\n\"]"
      ]
     },
     "execution_count": 49,
     "metadata": {},
     "output_type": "execute_result"
    }
   ],
   "source": [
    "pattern.split(txt,maxsplit=5)"
   ]
  },
  {
   "cell_type": "code",
   "execution_count": null,
   "metadata": {},
   "outputs": [],
   "source": []
  }
 ],
 "metadata": {
  "kernelspec": {
   "display_name": "Python 3",
   "language": "python",
   "name": "python3"
  },
  "language_info": {
   "codemirror_mode": {
    "name": "ipython",
    "version": 3
   },
   "file_extension": ".py",
   "mimetype": "text/x-python",
   "name": "python",
   "nbconvert_exporter": "python",
   "pygments_lexer": "ipython3",
   "version": "3.7.4"
  }
 },
 "nbformat": 4,
 "nbformat_minor": 2
}
