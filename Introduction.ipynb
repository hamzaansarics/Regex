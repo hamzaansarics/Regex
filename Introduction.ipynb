{
 "cells": [
  {
   "cell_type": "markdown",
   "metadata": {},
   "source": [
    "### 1-What is Exactly Regular Expression? \n",
    "A Regular Expression is often, Called a pattern is an expression use to specify the set of strings requird for a particular purpose.\n",
    "\n",
    "- a simple way to specify the finite set of strings is to list its elements or members\n",
    "- For Example: {file,file1,file2}\n",
    "\n",
    "\n",
    "- How way there is an concise way to represent the set of strings as requird For example the set {file,file1,file2} can be specified the pattern file(1|2)? they will match three strings\n",
    "\n",
    "\n",
    "- anohter method for {file1,file2,file3} as file\\d?"
   ]
  },
  {
   "cell_type": "code",
   "execution_count": null,
   "metadata": {},
   "outputs": [],
   "source": []
  }
 ],
 "metadata": {
  "kernelspec": {
   "display_name": "Python 3",
   "language": "python",
   "name": "python3"
  },
  "language_info": {
   "codemirror_mode": {
    "name": "ipython",
    "version": 3
   },
   "file_extension": ".py",
   "mimetype": "text/x-python",
   "name": "python",
   "nbconvert_exporter": "python",
   "pygments_lexer": "ipython3",
   "version": "3.7.4"
  }
 },
 "nbformat": 4,
 "nbformat_minor": 2
}
