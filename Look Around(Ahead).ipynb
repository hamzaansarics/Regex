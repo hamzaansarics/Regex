{
 "cells": [
  {
   "cell_type": "code",
   "execution_count": 85,
   "metadata": {},
   "outputs": [],
   "source": [
    "import re"
   ]
  },
  {
   "cell_type": "markdown",
   "metadata": {},
   "source": [
    "#### Zero Assertions\n",
    "- chracters which indicate posiotions rathar than actual content are called zero-width assertions\n",
    "- For Instance the caret symbol(^) is a representation of the beggning of a line of dollar of sing($) for the end of the line\n",
    "-The Effectively do assertions without consuming chracter; they just return a positvive or negative reuslt of the match\n",
    "- a do more powerful kind of zero-width assertions is look around a mechanism with whcih is possible to match a certain pervious look(look behind) or ulterior(look ahead) valuet to the curent postion"
   ]
  },
  {
   "cell_type": "code",
   "execution_count": 86,
   "metadata": {},
   "outputs": [],
   "source": [
    "txt='green blue white'"
   ]
  },
  {
   "cell_type": "code",
   "execution_count": 87,
   "metadata": {},
   "outputs": [
    {
     "data": {
      "text/plain": [
       "['blue']"
      ]
     },
     "execution_count": 87,
     "metadata": {},
     "output_type": "execute_result"
    }
   ],
   "source": [
    "re.findall(re.compile(r'\\bblue\\b'),txt)"
   ]
  },
  {
   "cell_type": "markdown",
   "metadata": {},
   "source": [
    "#### Look Around\n",
    "- Look around is the simple mechanism which during the matching process,at the curent postion, looks forward or(look behind, deponds on the type of lookaround used)to see if some pattern mathces before continuing with the actual match\n",
    "\n",
    "- the most important thing udnerstand is here to look around mechanism consist of two parts...\n",
    "\n",
    "\n",
    "\n",
    "- actual expression: an expression whose match constitute the final result\n",
    "- non-consuming expression: an expression whose match is evualted before the actual expression  just if it can succeed. it is not actually by the regex engine\n",
    "    - if the non consuming match the suceed,the regex engine forget this about non-consuming expresion and starts evaluting the next chracter from the curent position of the actual expression\n",
    "    - if the non consuming does't mathc the succeed,we simply move to next chracter of the given text and repeat the whole match process again\n",
    "\n",
    "\n",
    "- There are two main catergories of look around\n",
    "    - Look Ahead\n",
    "    - Look Behind"
   ]
  },
  {
   "cell_type": "code",
   "execution_count": 88,
   "metadata": {},
   "outputs": [],
   "source": [
    "txt=\"\"\"\n",
    "Pakistan :is my love, and i'm living :here from since, i love will never left.\n",
    "\"\"\""
   ]
  },
  {
   "cell_type": "markdown",
   "metadata": {},
   "source": [
    "##### Look Ahead Positive\n",
    "- Positive look ahead will succeed if the non consuming expression does't match against the forthcoming input.\n",
    "- The syntax A(?=B) where A is the actual expression and B is non-consuming expression"
   ]
  },
  {
   "cell_type": "code",
   "execution_count": 89,
   "metadata": {},
   "outputs": [
    {
     "data": {
      "text/plain": [
       "['love']"
      ]
     },
     "execution_count": 89,
     "metadata": {},
     "output_type": "execute_result"
    }
   ],
   "source": [
    "re.findall(re.compile('love(?=\\swill)'),txt)"
   ]
  },
  {
   "cell_type": "code",
   "execution_count": 90,
   "metadata": {},
   "outputs": [
    {
     "data": {
      "text/plain": [
       "['love', 'since', 'left']"
      ]
     },
     "execution_count": 90,
     "metadata": {},
     "output_type": "execute_result"
    }
   ],
   "source": [
    "pattern=re.compile('\\w+(?=,|\\.)')\n",
    "pattern.findall(txt)"
   ]
  },
  {
   "cell_type": "code",
   "execution_count": 91,
   "metadata": {},
   "outputs": [
    {
     "data": {
      "text/plain": [
       "['love,', 'since,', 'left.']"
      ]
     },
     "execution_count": 91,
     "metadata": {},
     "output_type": "execute_result"
    }
   ],
   "source": [
    "pattern=re.compile('\\w+[,|\\.]')\n",
    "pattern.findall(txt)"
   ]
  },
  {
   "cell_type": "code",
   "execution_count": 92,
   "metadata": {},
   "outputs": [
    {
     "data": {
      "text/plain": [
       "[]"
      ]
     },
     "execution_count": 92,
     "metadata": {},
     "output_type": "execute_result"
    }
   ],
   "source": [
    "pattern=re.compile('\\w+(:=?)')\n",
    "pattern.findall(txt)"
   ]
  },
  {
   "cell_type": "markdown",
   "metadata": {},
   "source": [
    "##### Look Ahead Negaitive\n",
    "- Negative look ahead will succeed if the passed non consuming exprssion does not match againt the forthcoming input\n",
    "- The  Syntax is A(?!B) where A is actual expression and B is non-consuming expression"
   ]
  },
  {
   "cell_type": "code",
   "execution_count": 94,
   "metadata": {},
   "outputs": [
    {
     "data": {
      "text/plain": [
       "['love']"
      ]
     },
     "execution_count": 94,
     "metadata": {},
     "output_type": "execute_result"
    }
   ],
   "source": [
    "re.findall(re.compile('love(?!\\swill)'),txt)"
   ]
  },
  {
   "cell_type": "code",
   "execution_count": null,
   "metadata": {},
   "outputs": [],
   "source": []
  }
 ],
 "metadata": {
  "kernelspec": {
   "display_name": "Python 3",
   "language": "python",
   "name": "python3"
  },
  "language_info": {
   "codemirror_mode": {
    "name": "ipython",
    "version": 3
   },
   "file_extension": ".py",
   "mimetype": "text/x-python",
   "name": "python",
   "nbconvert_exporter": "python",
   "pygments_lexer": "ipython3",
   "version": "3.7.3"
  }
 },
 "nbformat": 4,
 "nbformat_minor": 2
}
